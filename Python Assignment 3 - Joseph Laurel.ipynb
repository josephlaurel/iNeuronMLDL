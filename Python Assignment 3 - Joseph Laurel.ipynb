{
 "cells": [
  {
   "cell_type": "markdown",
   "metadata": {},
   "source": [
    "#### 1.1. Write a Python Program to implement your own myreduce() function which works exactly like Python's built-in function reduce()"
   ]
  },
  {
   "cell_type": "code",
   "execution_count": 28,
   "metadata": {},
   "outputs": [
    {
     "name": "stdout",
     "output_type": "stream",
     "text": [
      "Please enter a number: 10\n",
      "The first 10 natural numbers are [1, 2, 3, 4, 5, 6, 7, 8, 9, 10].\n",
      "The squared values of those numbers are [1, 4, 9, 16, 25, 36, 49, 64, 81, 100].\n"
     ]
    }
   ],
   "source": [
    "# This function generates a list of n numbers and their corresponding squared values\n",
    "# based on a number entered by the user.\n",
    "\n",
    "def myreduce(num):\n",
    "    num_lst = list(range(1,number+1))\n",
    "    square_lst = []\n",
    "    \n",
    "    for i in num_lst:\n",
    "        square_lst.append(i**2)\n",
    "        \n",
    "    return num_lst, square_lst\n",
    "\n",
    "#Input \n",
    "number = int(input(\"Please enter a number: \"))\n",
    "\n",
    "#Function Execution\n",
    "\n",
    "output_value = myreduce(number)\n",
    "\n",
    "#Output\n",
    "print(\"The first {bilang} natural numbers are {listahan}.\".format(bilang = number, listahan = output_value[0]))\n",
    "print(\"The squared values of those numbers are {sqr}.\".format(sqr = output_value[1]))"
   ]
  },
  {
   "cell_type": "markdown",
   "metadata": {},
   "source": [
    "#### 1.2. Write a Python program to implement your own myfilter() function which works exactly like Python's built-in function filter()"
   ]
  },
  {
   "cell_type": "code",
   "execution_count": 29,
   "metadata": {},
   "outputs": [
    {
     "name": "stdout",
     "output_type": "stream",
     "text": [
      "Please enter a number: 10\n",
      "The first 10 natural numbers are [1, 2, 3, 4, 5, 6, 7, 8, 9, 10].\n",
      "Out of those numbers, the ones that are divisible by 3 are [3, 6, 9].\n"
     ]
    }
   ],
   "source": [
    "# This function generates a range of n numbers and displays the numbers which are divisible by 3\n",
    "# based on a number entered by the user.\n",
    "\n",
    "def myfilter(num):\n",
    "    num_lst = list(range(1,number+1))\n",
    "    three_lst = []\n",
    "    \n",
    "    for i in num_lst:\n",
    "        if i%3 == 0:\n",
    "            three_lst.append(i)\n",
    "        \n",
    "    return num_lst, three_lst\n",
    "\n",
    "#Input \n",
    "number = int(input(\"Please enter a number: \"))\n",
    "\n",
    "#Function Execution\n",
    "\n",
    "output_value = myfilter(number)\n",
    "\n",
    "#Output\n",
    "print(\"The first {bilang} natural numbers are {listahan}.\".format(bilang = number, listahan = output_value[0]))\n",
    "print(\"Out of those numbers, the ones that are divisible by 3 are {tres}.\".format(tres = output_value[1]))"
   ]
  },
  {
   "cell_type": "markdown",
   "metadata": {},
   "source": [
    "#### 2. Implement List comprehensions to produce the following lists\n",
    "<br>['x', 'xx', 'xxx', 'xxxx', 'y', 'yy', 'yyy', 'yyyy', 'z', 'zz', 'zzz', 'zzzz']"
   ]
  },
  {
   "cell_type": "code",
   "execution_count": 44,
   "metadata": {},
   "outputs": [
    {
     "data": {
      "text/plain": [
       "['x', 'xx', 'xxx', 'xxxx', 'y', 'yy', 'yyy', 'yyyy', 'z', 'zz', 'zzz', 'zzzz']"
      ]
     },
     "execution_count": 44,
     "metadata": {},
     "output_type": "execute_result"
    }
   ],
   "source": [
    "lst_xyz = ['x', 'y', 'z']\n",
    "\n",
    "[i*num for i in lst_xyz for num in range(1,5)]"
   ]
  },
  {
   "cell_type": "markdown",
   "metadata": {},
   "source": [
    "<br><br>['x', 'y', 'z', 'xx', 'yy', 'zz', 'xxx', 'yyy', 'zzz', 'xxxx', 'yyyy', 'zzzz'] "
   ]
  },
  {
   "cell_type": "code",
   "execution_count": 45,
   "metadata": {},
   "outputs": [
    {
     "data": {
      "text/plain": [
       "['x', 'y', 'z', 'xx', 'yy', 'zz', 'xxx', 'yyy', 'zzz', 'xxxx', 'yyyy', 'zzzz']"
      ]
     },
     "execution_count": 45,
     "metadata": {},
     "output_type": "execute_result"
    }
   ],
   "source": [
    "[i*num for num in range(1,5) for i in lst_xyz]"
   ]
  },
  {
   "cell_type": "markdown",
   "metadata": {},
   "source": [
    "<br><br>[[2], [3], [4], [3], [4], [5], [4], [5], [6]]"
   ]
  },
  {
   "cell_type": "code",
   "execution_count": 64,
   "metadata": {},
   "outputs": [
    {
     "data": {
      "text/plain": [
       "[[2], [3], [4], [3], [4], [5], [4], [5], [6]]"
      ]
     },
     "execution_count": 64,
     "metadata": {},
     "output_type": "execute_result"
    }
   ],
   "source": [
    "lst_num = [2,3,4]\n",
    "\n",
    "[[i+num] for num in range (0,3) for i in lst_num]"
   ]
  },
  {
   "cell_type": "markdown",
   "metadata": {},
   "source": [
    "<br><br>[[2, 3, 4, 5], [3, 4, 5, 6], [4, 5, 6, 7], [5, 6, 7, 8]]"
   ]
  },
  {
   "cell_type": "code",
   "execution_count": 70,
   "metadata": {},
   "outputs": [
    {
     "data": {
      "text/plain": [
       "[[2, 3, 4, 5], [3, 4, 5, 6], [4, 5, 6, 7], [5, 6, 7, 8]]"
      ]
     },
     "execution_count": 70,
     "metadata": {},
     "output_type": "execute_result"
    }
   ],
   "source": [
    "lstnum2 = [2, 3, 4, 5]\n",
    "\n",
    "[[i, i+1, i+2, i+3] for num in range (0,1) for i in lstnum2]"
   ]
  },
  {
   "cell_type": "markdown",
   "metadata": {},
   "source": [
    "<br><br> [(1, 1), (2, 1), (3, 1), (1, 2), (2, 2), (3, 2), (1, 3), (2, 3), (3, 3)]"
   ]
  },
  {
   "cell_type": "code",
   "execution_count": 87,
   "metadata": {},
   "outputs": [
    {
     "data": {
      "text/plain": [
       "[(1, 1), (2, 1), (3, 1), (1, 2), (2, 2), (3, 2), (1, 3), (2, 3), (3, 3)]"
      ]
     },
     "execution_count": 87,
     "metadata": {},
     "output_type": "execute_result"
    }
   ],
   "source": [
    "lstint = (1,2,3)\n",
    "\n",
    "[(b,a) for a in lstint for b in lstint]"
   ]
  }
 ],
 "metadata": {
  "kernelspec": {
   "display_name": "Python 3",
   "language": "python",
   "name": "python3"
  }
 },
 "nbformat": 4,
 "nbformat_minor": 4
}
